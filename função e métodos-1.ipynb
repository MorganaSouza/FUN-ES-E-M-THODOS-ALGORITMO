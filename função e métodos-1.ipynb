{
 "cells": [
  {
   "cell_type": "code",
   "execution_count": 86,
   "metadata": {},
   "outputs": [],
   "source": [
    "def funcaoleitura():\n",
    "    for i in [1,2,3,4,5]:\n",
    "        print(\"numero \", i)\n",
    "        \n",
    "        funcaoleitura()"
   ]
  },
  {
   "cell_type": "code",
   "execution_count": 87,
   "metadata": {},
   "outputs": [],
   "source": [
    "#FUNCTIONS AND METHODS E CRIAÇÃO DE CLASSES\n",
    "#def, diz o nome, o que ela vai fazer e depois chamar a função\n",
    "\n",
    "def funcaoleitura():\n",
    "    for i in range(5):\n",
    "        print(\"numero \", i)\n",
    "        \n",
    "        funcaoleitura()"
   ]
  },
  {
   "cell_type": "code",
   "execution_count": 88,
   "metadata": {},
   "outputs": [
    {
     "name": "stdout",
     "output_type": "stream",
     "text": [
      "O primeiro número é:  2\n",
      "O segundo número é:  3\n",
      "O terceiro número é:  5\n"
     ]
    }
   ],
   "source": [
    "#FUNÇÃO PARA SOMAR DOIS NÚMEROS\n",
    "\n",
    "def addNum(n1, n2):\n",
    "    print(\"O primeiro número é: \", n1)\n",
    "    print(\"O segundo número é: \", n2)\n",
    "    print(\"O terceiro número é: \", n1+n2)\n",
    "    \n",
    "addNum(2, 3)"
   ]
  },
  {
   "cell_type": "code",
   "execution_count": 89,
   "metadata": {},
   "outputs": [],
   "source": [
    "#PARÂMETROS É O QUE ESTÁ NOS PARENTÊSES"
   ]
  },
  {
   "cell_type": "code",
   "execution_count": 90,
   "metadata": {},
   "outputs": [],
   "source": [
    "#FUNÇÃO PARA SOMAR DOIS NÚMEROS\n",
    "\n",
    "def addNum(n1, n2):\n",
    "    print(\"O primeiro número é: \", n1)\n",
    "    print(\"O segundo número é: \", n2)\n",
    "    print(\"O terceiro número é: \", n1+n2)\n",
    "    "
   ]
  },
  {
   "cell_type": "code",
   "execution_count": 91,
   "metadata": {},
   "outputs": [
    {
     "name": "stdout",
     "output_type": "stream",
     "text": [
      "O primeiro número é:  2\n",
      "O segundo número é:  3\n",
      "O terceiro número é:  5\n"
     ]
    }
   ],
   "source": [
    "addNum(2, 3)"
   ]
  },
  {
   "cell_type": "code",
   "execution_count": 92,
   "metadata": {},
   "outputs": [
    {
     "name": "stdout",
     "output_type": "stream",
     "text": [
      "O primeiro número é:  4\n",
      "O segundo número é:  3\n",
      "O terceiro número é:  7\n"
     ]
    }
   ],
   "source": [
    "addNum(4, 3)"
   ]
  },
  {
   "cell_type": "code",
   "execution_count": 93,
   "metadata": {},
   "outputs": [
    {
     "ename": "TypeError",
     "evalue": "addNum() missing 2 required positional arguments: 'n1' and 'n2'",
     "output_type": "error",
     "traceback": [
      "\u001b[1;31m---------------------------------------------------------------------------\u001b[0m",
      "\u001b[1;31mTypeError\u001b[0m                                 Traceback (most recent call last)",
      "Cell \u001b[1;32mIn[93], line 1\u001b[0m\n\u001b[1;32m----> 1\u001b[0m \u001b[43maddNum\u001b[49m\u001b[43m(\u001b[49m\u001b[43m)\u001b[49m \u001b[38;5;66;03m#se usar uma função que exige parâmetro e não por, vai dar erro.\u001b[39;00m\n",
      "\u001b[1;31mTypeError\u001b[0m: addNum() missing 2 required positional arguments: 'n1' and 'n2'"
     ]
    }
   ],
   "source": [
    "addNum() #se usar uma função que exige parâmetro e não por, vai dar erro."
   ]
  },
  {
   "cell_type": "code",
   "execution_count": null,
   "metadata": {},
   "outputs": [],
   "source": [
    "#VARIÁVEIS GLOBAIS E LOCAIS\n",
    "\n",
    "#variável global\n",
    "varGlobal = 10 #essa é a variável global\n",
    "def multiplicacao(num1,num2):\n",
    "    varGlobal = (num1 * num2) #essa é a variável local\n",
    "    print(\"variável da função multiplica: \", varGlobal)\n",
    "\n",
    "    multiplicacao(5, 4)\n",
    "    print(varGlobal)"
   ]
  },
  {
   "cell_type": "code",
   "execution_count": null,
   "metadata": {},
   "outputs": [],
   "source": [
    "#VARIÁVEL LOCAL\n",
    "varGlobal = 10 #essa é a variável global\n",
    "def multiplicacao(num1,num2):\n",
    "    varLocal = (num1 * num2) #essa é a variável local\n",
    "    print(\"variável da função multiplica: \", varLocal)\n",
    "    print(varLocal)"
   ]
  },
  {
   "cell_type": "code",
   "execution_count": null,
   "metadata": {},
   "outputs": [
    {
     "name": "stdout",
     "output_type": "stream",
     "text": [
      "variável da função multiplica:  20\n",
      "20\n"
     ]
    }
   ],
   "source": [
    "multiplicacao(5, 4)"
   ]
  },
  {
   "cell_type": "code",
   "execution_count": null,
   "metadata": {},
   "outputs": [
    {
     "ename": "NameError",
     "evalue": "name 'varLocal' is not defined",
     "output_type": "error",
     "traceback": [
      "\u001b[1;31m---------------------------------------------------------------------------\u001b[0m",
      "\u001b[1;31mNameError\u001b[0m                                 Traceback (most recent call last)",
      "Cell \u001b[1;32mIn[66], line 1\u001b[0m\n\u001b[1;32m----> 1\u001b[0m \u001b[38;5;28mprint\u001b[39m(\u001b[43mvarLocal\u001b[49m)\u001b[38;5;66;03m#deu erro PORQUE A VARIÁVEL EXISTE SÓ DENTRO DA FUNÇÃO\u001b[39;00m\n",
      "\u001b[1;31mNameError\u001b[0m: name 'varLocal' is not defined"
     ]
    }
   ],
   "source": [
    "print(varLocal)#deu erro PORQUE A VARIÁVEL EXISTE SÓ DENTRO DA FUNÇÃO"
   ]
  },
  {
   "cell_type": "code",
   "execution_count": 94,
   "metadata": {},
   "outputs": [],
   "source": [
    "#CRIANDO FUNÇÕES COM OUTRAS FUNÇOES\n",
    "#def: criando função\n",
    "#split: separar o texto\n",
    "\n",
    "def separarTexto(texto):\n",
    "    return texto.split()"
   ]
  },
  {
   "cell_type": "code",
   "execution_count": 95,
   "metadata": {},
   "outputs": [
    {
     "data": {
      "text/plain": [
       "['Cibele', 'Maria']"
      ]
     },
     "execution_count": 95,
     "metadata": {},
     "output_type": "execute_result"
    }
   ],
   "source": [
    "separarTexto(\"Cibele Maria\")"
   ]
  },
  {
   "cell_type": "code",
   "execution_count": 96,
   "metadata": {},
   "outputs": [],
   "source": [
    "def separarTexto(texto):\n",
    "    return texto.split()"
   ]
  },
  {
   "cell_type": "code",
   "execution_count": 97,
   "metadata": {},
   "outputs": [
    {
     "data": {
      "text/plain": [
       "['Cibele', 'Maria', 'Suely']"
      ]
     },
     "execution_count": 97,
     "metadata": {},
     "output_type": "execute_result"
    }
   ],
   "source": [
    "separarTexto(\"Cibele Maria Suely\")"
   ]
  },
  {
   "cell_type": "code",
   "execution_count": 102,
   "metadata": {},
   "outputs": [],
   "source": [
    "#QUANDO NÃO SABEMOS A QUANTIDADES DE PARÂMETROS BASTA USAR *\n",
    "\n",
    "\n",
    "def variosParametros(*parametros):\n",
    "    for n, item in enumerate(parametros):\n",
    "        print(\"Parâmetro\", n, item)\n",
    "        \n",
    "    return"
   ]
  },
  {
   "cell_type": "code",
   "execution_count": 103,
   "metadata": {},
   "outputs": [
    {
     "name": "stdout",
     "output_type": "stream",
     "text": [
      "Parâmetro 0 Cibele\n",
      "Parâmetro 1 Suely\n",
      "Parâmetro 2 Giggio\n",
      "Parâmetro 3 Madá\n",
      "Parâmetro 4 Luquinhas\n"
     ]
    }
   ],
   "source": [
    "variosParametros('Cibele', 'Suely', 'Giggio', 'Madá', 'Luquinhas')"
   ]
  },
  {
   "cell_type": "code",
   "execution_count": 1,
   "metadata": {},
   "outputs": [],
   "source": [
    "#CALCULADORA\n",
    "\n",
    "def soma(n1, n2):\n",
    "    return n1+n2\n",
    "\n",
    "def subtrai(n1, n2):\n",
    "    return n1-n2\n",
    "\n",
    "def multiplica(n1, n2):\n",
    "    return n1*n2\n",
    "\n",
    "def divide(n1, n2):\n",
    "    return n1/n2\n"
   ]
  },
  {
   "cell_type": "code",
   "execution_count": null,
   "metadata": {},
   "outputs": [
    {
     "ename": "IndentationError",
     "evalue": "unexpected indent (1551132005.py, line 12)",
     "output_type": "error",
     "traceback": [
      "\u001b[1;36m  Cell \u001b[1;32mIn[3], line 12\u001b[1;36m\u001b[0m\n\u001b[1;33m    break\u001b[0m\n\u001b[1;37m    ^\u001b[0m\n\u001b[1;31mIndentationError\u001b[0m\u001b[1;31m:\u001b[0m unexpected indent\n"
     ]
    },
    {
     "name": "stdout",
     "output_type": "stream",
     "text": [
      "ERROR! Session/line number was not unique in database. History logging moved to new session 45\n"
     ]
    }
   ],
   "source": [
    "while True:\n",
    "\n",
    " print(\"+==================+\")\n",
    " print(\"| MENU DE OPERAÇÕES\")\n",
    " print(\"| 1 - somar        \")\n",
    " print(\"| 2 - subtrair     \")\n",
    " print(\"| 3 - multiplicar  \")\n",
    " print(\"| 4 - dividir      \")\n",
    " print(\"| 0 - sair         \")\n",
    " print(\"+==================+\")\n"
   ]
  },
  {
   "cell_type": "code",
   "execution_count": null,
   "metadata": {},
   "outputs": [],
   "source": [
    "op = int(input())\n",
    "if op==0:\n",
    "  break\n",
    "\n",
    "num1 = int(input(\"Digite o primeiro número:\"))\n",
    "num2 = int(input(\"Digite o segundo número: \"))\n",
    "\n",
    "if op==1:\n",
    "    print(\"O resultado da soma é: \", soma(n1, n2))\n",
    "elif op==2:\n",
    "     print(\"O resultado da soma é: \", subtrai(n1, n2))\n",
    "elif op==3:\n",
    "      print(\"O resultado da soma é: \", multiplica(n1, n2))\n",
    "elif op==4:\n",
    "      print(\"O resultado da soma é: \", divide(n1, n2))      \n",
    "else:\n",
    "     print(\"Por favor, digite uma das opções\")\n",
    "\n"
   ]
  }
 ],
 "metadata": {
  "kernelspec": {
   "display_name": "Python 3",
   "language": "python",
   "name": "python3"
  },
  "language_info": {
   "codemirror_mode": {
    "name": "ipython",
    "version": 3
   },
   "file_extension": ".py",
   "mimetype": "text/x-python",
   "name": "python",
   "nbconvert_exporter": "python",
   "pygments_lexer": "ipython3",
   "version": "3.11.4"
  }
 },
 "nbformat": 4,
 "nbformat_minor": 2
}
